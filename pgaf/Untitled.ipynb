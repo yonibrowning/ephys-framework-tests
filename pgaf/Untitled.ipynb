{
 "cells": [
  {
   "cell_type": "code",
   "execution_count": 98,
   "id": "5affb4a2",
   "metadata": {},
   "outputs": [],
   "source": [
    "import numpy as np\n",
    "import pandas as pd\n",
    "import json\n",
    "\n",
    "\n",
    "from sqlalchemy import create_engine, select, literal_column, text\n",
    "from sqlalchemy import Column,  String,  ARRAY\n",
    "\n",
    "from sqlalchemy.sql import func, distinct\n",
    "from sqlalchemy.dialects.postgresql import array\n",
    "from sqla_schema import *\n",
    "\n",
    "from allensdk.brain_observatory.ecephys.ecephys_project_cache import EcephysProjectCache\n",
    "import os"
   ]
  },
  {
   "cell_type": "code",
   "execution_count": 8,
   "id": "18ca7e57",
   "metadata": {},
   "outputs": [],
   "source": [
    "def query_to_df(Q):\n",
    "    df = pd.read_sql(Q.statement, Q.session.bind)\n",
    "    return df"
   ]
  },
  {
   "cell_type": "code",
   "execution_count": 86,
   "id": "b09723ee",
   "metadata": {},
   "outputs": [],
   "source": [
    "# Get the sessions for which we have spike data\n",
    "Q = session.\\\n",
    "    query(Session).\\\n",
    "    join(SessionProbe,SessionProbe.session_id == Session.id).\\\n",
    "    join(Channel,Channel.session_probe_id == SessionProbe.id).\\\n",
    "    join(Unit,Unit.channel_id == Channel.id).\\\n",
    "    filter(UnitSpikeTimes.unit_id==Unit.id).group_by(Session.id)\n",
    "query_df = query_to_df(Q)"
   ]
  },
  {
   "cell_type": "code",
   "execution_count": 93,
   "id": "c844b9b8",
   "metadata": {},
   "outputs": [
    {
     "name": "stdout",
     "output_type": "stream",
     "text": [
      "721123822\n",
      "719161530\n",
      "715093703\n"
     ]
    }
   ],
   "source": [
    "for session_id  in query_df.id:\n"
   ]
  },
  {
   "cell_type": "code",
   "execution_count": 99,
   "id": "1692bad4",
   "metadata": {},
   "outputs": [],
   "source": [
    "data_directory = 'C:\\\\Users\\\\yoni.browning\\\\Documents\\\\DataJoint\\\\AllenData'\n",
    "manifest_path = os.path.join(data_directory, \"manifest.json\")\n",
    "cache = EcephysProjectCache.from_warehouse(manifest=manifest_path)\n"
   ]
  },
  {
   "cell_type": "code",
   "execution_count": 102,
   "id": "fcab4dd6",
   "metadata": {},
   "outputs": [],
   "source": [
    "session = cache.get_session_data(session_id)        \n",
    "rf_stim_table = session.stimulus_presentations\n",
    "rf_stim_table.reset_index(inplace=True)"
   ]
  },
  {
   "cell_type": "code",
   "execution_count": 107,
   "id": "4da7ec85",
   "metadata": {},
   "outputs": [],
   "source": [
    "rf_stim_table.insert(0,'session_id',(session.ecephys_session_id*np.ones(len(rf_stim_table))).astype(int))"
   ]
  },
  {
   "cell_type": "code",
   "execution_count": null,
   "id": "73bc4676",
   "metadata": {},
   "outputs": [],
   "source": []
  }
 ],
 "metadata": {
  "kernelspec": {
   "display_name": "Python 3 (ipykernel)",
   "language": "python",
   "name": "python3"
  },
  "language_info": {
   "codemirror_mode": {
    "name": "ipython",
    "version": 3
   },
   "file_extension": ".py",
   "mimetype": "text/x-python",
   "name": "python",
   "nbconvert_exporter": "python",
   "pygments_lexer": "ipython3",
   "version": "3.7.11"
  }
 },
 "nbformat": 4,
 "nbformat_minor": 5
}
