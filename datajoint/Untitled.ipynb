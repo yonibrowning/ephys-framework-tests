{
 "cells": [
  {
   "cell_type": "code",
   "execution_count": 1,
   "id": "0996c6ea-953c-4ed7-b3d3-9eddbe64f794",
   "metadata": {},
   "outputs": [
    {
     "name": "stdout",
     "output_type": "stream",
     "text": [
      "Connecting yonib@34.82.94.188:3306\n"
     ]
    }
   ],
   "source": [
    "import sys\n",
    "sys.path.insert(0, \"C:\\\\Users\\\\yoni.browning\\\\Documents\\\\ephys-framework-tests\\\\datajoint\\\\schema\")\n",
    "import main_schema"
   ]
  },
  {
   "cell_type": "code",
   "execution_count": 3,
   "id": "22cce6af-817a-4be6-934d-952ace5b21b0",
   "metadata": {},
   "outputs": [
    {
     "ename": "NameError",
     "evalue": "name 'Genotype' is not defined",
     "output_type": "error",
     "traceback": [
      "\u001b[1;31m---------------------------------------------------------------------------\u001b[0m",
      "\u001b[1;31mNameError\u001b[0m                                 Traceback (most recent call last)",
      "\u001b[1;32mC:\\Users\\YONI~1.BRO\\AppData\\Local\\Temp/ipykernel_20252/1340443528.py\u001b[0m in \u001b[0;36m<module>\u001b[1;34m\u001b[0m\n\u001b[1;32m----> 1\u001b[1;33m \u001b[0mGenotype\u001b[0m\u001b[1;33m(\u001b[0m\u001b[1;33m)\u001b[0m\u001b[1;33m\u001b[0m\u001b[1;33m\u001b[0m\u001b[0m\n\u001b[0m",
      "\u001b[1;31mNameError\u001b[0m: name 'Genotype' is not defined"
     ]
    }
   ],
   "source": [
    "Genotype()"
   ]
  },
  {
   "cell_type": "code",
   "execution_count": null,
   "id": "1c0d0545-382b-44cc-a72a-04feb9b77598",
   "metadata": {},
   "outputs": [],
   "source": []
  }
 ],
 "metadata": {
  "kernelspec": {
   "display_name": "Python 3 (ipykernel)",
   "language": "python",
   "name": "python3"
  },
  "language_info": {
   "codemirror_mode": {
    "name": "ipython",
    "version": 3
   },
   "file_extension": ".py",
   "mimetype": "text/x-python",
   "name": "python",
   "nbconvert_exporter": "python",
   "pygments_lexer": "ipython3",
   "version": "3.7.11"
  }
 },
 "nbformat": 4,
 "nbformat_minor": 5
}
